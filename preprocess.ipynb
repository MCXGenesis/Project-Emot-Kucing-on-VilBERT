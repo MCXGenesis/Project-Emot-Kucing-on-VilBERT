{
 "cells": [
  {
   "cell_type": "code",
   "execution_count": 1,
   "id": "3bdcad6f",
   "metadata": {},
   "outputs": [],
   "source": [
    "import pandas as pd\n",
    "import numpy as np"
   ]
  },
  {
   "cell_type": "code",
   "execution_count": 6,
   "id": "064705a9",
   "metadata": {},
   "outputs": [],
   "source": [
    "df_raw_tbh = pd.read_csv('turnbackhoax_data.csv')"
   ]
  },
  {
   "cell_type": "code",
   "execution_count": 7,
   "id": "f1b9c547",
   "metadata": {},
   "outputs": [
    {
     "data": {
      "text/plain": [
       "0       Konten yang beredar merupakan hasil rekayasa A...\n",
       "1       Video yang beredar adalah hasil rekayasa AI.\\n...\n",
       "2       Faktanya, ledakan hanya mungkin terjadi bila t...\n",
       "3       Faktanya Kemenaker menyalurkan BSU pada Juni-J...\n",
       "4       Faktanya, pengecekan BSU melalui Pospay hanya ...\n",
       "                              ...                        \n",
       "9995    Hasil Periksa Fakta Khairunnisa Andini (Univer...\n",
       "9996    Hasil Periksa Fakta Ani Nur MR (Universitas Ai...\n",
       "9997    Hasil Periksa Fakta Gabriela Nauli Sinaga (Uni...\n",
       "9998    Hasil periksa fakta Aisyah Adilah (Anggota Kom...\n",
       "9999    Direktorat Jenderal Imigrasi Kemenkumham menya...\n",
       "Name: Content, Length: 10000, dtype: object"
      ]
     },
     "execution_count": 7,
     "metadata": {},
     "output_type": "execute_result"
    }
   ],
   "source": [
    "df_raw_tbh['Content']"
   ]
  },
  {
   "cell_type": "code",
   "execution_count": null,
   "id": "a45d3cd6",
   "metadata": {},
   "outputs": [],
   "source": [
    "def ambil_narasi_aja(full_text):\n",
    "    narasi=''\n",
    "    narasi_start_splitter = ['NARASI:', 'Narasi(Diterjemahkan ke Bahasa Indonesia)', '[NARASI]:', 'Narasi :', '[NARASI]', 'Narasi:', 'NARASI :']\n",
    "    for s in narasi_start_splitter:\n",
    "        if s in full_text:\n",
    "            narasi = full_text.split(s)[1]\n",
    "            break\n",
    "    narasi_ended = ''\n",
    "    narasi_end_splitter = ['PENJELASAN:', '[PENJELASAN]:', 'Penjelasan :', '[PENJELASAN]', 'PENJELASAN', 'PENJELASAN :']\n",
    "    for s in narasi_end_splitter:\n",
    "        if s in full_text:\n",
    "            narasi_ended = narasi.split(s)[1]\n",
    "            break\n",
    "\n",
    "    "
   ]
  }
 ],
 "metadata": {
  "kernelspec": {
   "display_name": "Python 3",
   "language": "python",
   "name": "python3"
  },
  "language_info": {
   "codemirror_mode": {
    "name": "ipython",
    "version": 3
   },
   "file_extension": ".py",
   "mimetype": "text/x-python",
   "name": "python",
   "nbconvert_exporter": "python",
   "pygments_lexer": "ipython3",
   "version": "3.11.9"
  }
 },
 "nbformat": 4,
 "nbformat_minor": 5
}
