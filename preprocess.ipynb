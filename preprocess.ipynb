{
 "cells": [
  {
   "cell_type": "code",
   "execution_count": 41,
   "id": "3bdcad6f",
   "metadata": {},
   "outputs": [],
   "source": [
    "import pandas as pd\n",
    "import numpy as np\n",
    "import re\n"
   ]
  },
  {
   "cell_type": "code",
   "execution_count": 42,
   "id": "064705a9",
   "metadata": {},
   "outputs": [],
   "source": [
    "df_raw_tbh = pd.read_csv('turnbackhoax_data.csv')"
   ]
  },
  {
   "cell_type": "code",
   "execution_count": 44,
   "id": "f1b9c547",
   "metadata": {},
   "outputs": [
    {
     "data": {
      "text/plain": [
       "0       Konten yang beredar merupakan hasil rekayasa A...\n",
       "1       Video yang beredar adalah hasil rekayasa AI.\\n...\n",
       "2       Faktanya, ledakan hanya mungkin terjadi bila t...\n",
       "3       Faktanya Kemenaker menyalurkan BSU pada Juni-J...\n",
       "4       Faktanya, pengecekan BSU melalui Pospay hanya ...\n",
       "                              ...                        \n",
       "9995    Hasil Periksa Fakta Khairunnisa Andini (Univer...\n",
       "9996    Hasil Periksa Fakta Ani Nur MR (Universitas Ai...\n",
       "9997    Hasil Periksa Fakta Gabriela Nauli Sinaga (Uni...\n",
       "9998    Hasil periksa fakta Aisyah Adilah (Anggota Kom...\n",
       "9999    Direktorat Jenderal Imigrasi Kemenkumham menya...\n",
       "Name: Content, Length: 10000, dtype: object"
      ]
     },
     "execution_count": 44,
     "metadata": {},
     "output_type": "execute_result"
    }
   ],
   "source": [
    "df_raw_tbh['Content']"
   ]
  },
  {
   "cell_type": "markdown",
   "id": "18bfb079",
   "metadata": {},
   "source": [
    "Berdasarkan struktur narasi TurnBackHoax, kita perlu mengambil bagian narasinya saja."
   ]
  },
  {
   "cell_type": "code",
   "execution_count": null,
   "id": "a45d3cd6",
   "metadata": {},
   "outputs": [],
   "source": [
    "def ambil_narasi_aja(full_text):\n",
    "    narasi=''\n",
    "    narasi_start_splitter = ['NARASI:', 'Narasi(Diterjemahkan ke Bahasa Indonesia)', '[NARASI]:', 'Narasi :', '[NARASI]', 'Narasi:', 'NARASI :']\n",
    "    for s in narasi_start_splitter:\n",
    "        if s in full_text:\n",
    "            narasi = full_text.split(s)[1]\n",
    "            break\n",
    "    narasi_ended = ''\n",
    "    narasi_end_splitter = ['PENJELASAN:', '[PENJELASAN]:', 'Penjelasan :', '[PENJELASAN]', 'PENJELASAN', 'PENJELASAN :']\n",
    "    for s in narasi_end_splitter:\n",
    "        if s in full_text:\n",
    "            narasi_ended = narasi.split(s)[0]\n",
    "            break\n",
    "\n",
    "    if len(narasi_ended) > 0:\n",
    "        narasi = narasi_ended\n",
    "\n",
    "    narasi_cont = ''\n",
    "    narasi_cont_splitter = ['(Lanjutan Narasi)']\n",
    "    for s in narasi_cont_splitter:\n",
    "        if s in full_text:\n",
    "            narasi_cont = full_text.split(s)[1]\n",
    "\n",
    "    narasi_full = narasi + '' + narasi_cont\n",
    "\n",
    "    return narasi_full"
   ]
  },
  {
   "cell_type": "code",
   "execution_count": 20,
   "id": "8e769805",
   "metadata": {},
   "outputs": [],
   "source": [
    "df_raw_tbh['Clean Narasi'] = df_raw_tbh['Content'].map(lambda x: ambil_narasi_aja(x))\n",
    "df_raw_tbh['Clean Narasi'] = df_raw_tbh['Clean Narasi'].str.lower()\n",
    "df_raw_tbh['Title'] = df_raw_tbh['Title'].str.lower()"
   ]
  },
  {
   "cell_type": "code",
   "execution_count": 33,
   "id": "00be6c55",
   "metadata": {},
   "outputs": [
    {
     "data": {
      "text/plain": [
       "Clean Narasi\n",
       "                                                                                                                                                                                                                                                                                                                                                                                                                                                                                                                                                                                                   4197\n",
       " (tidak terdapat narasi)\\n===\\n                                                                                                                                                                                                                                                                                                                                                                                                                                                                                                                                                                      10\n",
       " (narasi tidak ditampilkan)\\n===\\n                                                                                                                                                                                                                                                                                                                                                                                                                                                                                                                                                                    6\n",
       "\\n(tidak ditampilkan)\\n===\\n                                                                                                                                                                                                                                                                                                                                                                                                                                                                                                                                                                          4\n",
       "\\n(narasi tidak ditampilkan)\\n===\\n                                                                                                                                                                                                                                                                                                                                                                                                                                                                                                                                                                   4\n",
       "                                                                                                                                                                                                                                                                                                                                                                                                                                                                                                                                                                                                   ... \n",
       "\\n“ja ja ja ja ja persija anjing”\\n= = = = =\\n                                                                                                                                                                                                                                                                                                                                                                                                                                                                                                                                                        1\n",
       "\\n“bill gates 1963 #billgates”\\n= = = = =\\n                                                                                                                                                                                                                                                                                                                                                                                                                                                                                                                                                           1\n",
       "\\n*poster jk-ahy\\n“deklarasi dukungan !\\ndemokrat s14p !\\njk – ahy\\nsenin\\n22 maret\\n2021\\n13 – 16.00 wib\\nfairmont jakarta\\njl. asia afrika no.8\\ngelora bung karno – jakarta\\ninfo lebih lanjut\\n081299992024”\\n*poster puan-moeldoko\\n“deklarasi dan dukungan\\ncapres-cawapres 2024\\ncalon presiden\\npuan maharani\\ncalon wakil presiden\\nmoeldoko\\nsenin, 29 maret 2021\\n13.00 – 16.00\\nthe royal ballroom\\njw marriott hotel surabaya\\nuntuk info lebih lanjut dan registrasi\\nhubungi: 081230648116 melalui telfon atau whatsapp\\nacara ini diselenggarakan oleh\\npro bakti nkri”\\n====\\n       1\n",
       "\\n“medical shocker: scientists at sloan kettering discover mrna inactivates tumor-suppressing proteins, meaning it can promote cancer.”\\n=====\\n                                                                                                                                                                                                                                                                                                                                                                                                                                                      1\n",
       "\\n“sebanyak 37 orang sebagaimana terdapat dalam lampiran, peserta sebagaimana dalam lampiran mengundurkan diri dan sedang dalam pertimbangan pengganti…dst”\\n= = = = =\\n                                                                                                                                                                                                                                                                                                                                                                                                                              1\n",
       "Name: count, Length: 5743, dtype: int64"
      ]
     },
     "execution_count": 33,
     "metadata": {},
     "output_type": "execute_result"
    }
   ],
   "source": [
    "df_raw_tbh['Clean Narasi'].value_counts()"
   ]
  },
  {
   "cell_type": "code",
   "execution_count": 35,
   "id": "4e614ccb",
   "metadata": {},
   "outputs": [],
   "source": [
    "def remove_url(textDisplay):\n",
    "    if textDisplay is not None and isinstance(textDisplay, str):\n",
    "        url = re.compile(r'https?://\\S+|www\\.\\S+')\n",
    "        return url.sub(r'', textDisplay)\n",
    "    else:\n",
    "        return textDisplay\n",
    "    \n",
    "def remove_html(textDisplay):\n",
    "    if textDisplay is not None and isinstance(textDisplay, str):\n",
    "        html = re.compile(r'<.*?>')\n",
    "        return html.sub(r'', textDisplay)\n",
    "    else:\n",
    "        return textDisplay\n",
    "    \n",
    "# def remove_emoji(textDisplay):\n",
    "#     if textDisplay is not None and isinstance(textDisplay, str):\n",
    "\n",
    "def remove_symbol(textDisplay):\n",
    "    if textDisplay is not None and isinstance(textDisplay, str):\n",
    "        textDisplay = re.sub(r'[^a-zA-Z0-9\\s]','',textDisplay)\n",
    "    return textDisplay"
   ]
  },
  {
   "cell_type": "code",
   "execution_count": 38,
   "id": "600c2dad",
   "metadata": {},
   "outputs": [],
   "source": [
    "df_raw_tbh['Title'] = df_raw_tbh['Title'].apply(lambda x: remove_html(x))\n",
    "df_raw_tbh['Title'] = df_raw_tbh['Title'].apply(lambda x: remove_symbol(x))\n",
    "df_raw_tbh['Title'] = df_raw_tbh['Title'].apply(lambda x: remove_url(x))\n",
    "\n",
    "df_raw_tbh['Clean Narasi'] = df_raw_tbh['Clean Narasi'].apply(lambda x: remove_html(x))\n",
    "df_raw_tbh['Clean Narasi'] = df_raw_tbh['Clean Narasi'].apply(lambda x: remove_symbol(x))\n",
    "df_raw_tbh['Clean Narasi'] = df_raw_tbh['Clean Narasi'].apply(lambda x: remove_url(x))"
   ]
  },
  {
   "cell_type": "code",
   "execution_count": 39,
   "id": "e054ce5c",
   "metadata": {},
   "outputs": [],
   "source": [
    "df_raw_tbh.to_csv('dataframe_turnbackhoax.csv', index=False)"
   ]
  }
 ],
 "metadata": {
  "kernelspec": {
   "display_name": "Python 3",
   "language": "python",
   "name": "python3"
  },
  "language_info": {
   "codemirror_mode": {
    "name": "ipython",
    "version": 3
   },
   "file_extension": ".py",
   "mimetype": "text/x-python",
   "name": "python",
   "nbconvert_exporter": "python",
   "pygments_lexer": "ipython3",
   "version": "3.11.9"
  }
 },
 "nbformat": 4,
 "nbformat_minor": 5
}
